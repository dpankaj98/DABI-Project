{
 "cells": [
  {
   "cell_type": "code",
   "execution_count": 47,
   "id": "fad9fd13",
   "metadata": {},
   "outputs": [],
   "source": [
    "import pandas as pd\n",
    "import numpy as np\n",
    "import matplotlib.pyplot as plt\n",
    "import seaborn as sns"
   ]
  },
  {
   "cell_type": "code",
   "execution_count": 50,
   "id": "f6889020",
   "metadata": {},
   "outputs": [
    {
     "data": {
      "text/html": [
       "<div>\n",
       "<style scoped>\n",
       "    .dataframe tbody tr th:only-of-type {\n",
       "        vertical-align: middle;\n",
       "    }\n",
       "\n",
       "    .dataframe tbody tr th {\n",
       "        vertical-align: top;\n",
       "    }\n",
       "\n",
       "    .dataframe thead th {\n",
       "        text-align: right;\n",
       "    }\n",
       "</style>\n",
       "<table border=\"1\" class=\"dataframe\">\n",
       "  <thead>\n",
       "    <tr style=\"text-align: right;\">\n",
       "      <th></th>\n",
       "      <th>date</th>\n",
       "      <th>Inflation</th>\n",
       "      <th>LTIR</th>\n",
       "      <th>Unemployment</th>\n",
       "      <th>STIR</th>\n",
       "      <th>LIBOR</th>\n",
       "      <th>BCTPS</th>\n",
       "      <th>UKUSFX</th>\n",
       "      <th>BDR</th>\n",
       "      <th>HPLR</th>\n",
       "      <th>HCCR</th>\n",
       "    </tr>\n",
       "  </thead>\n",
       "  <tbody>\n",
       "    <tr>\n",
       "      <th>0</th>\n",
       "      <td>1986-01</td>\n",
       "      <td>5.482456</td>\n",
       "      <td>11.1300</td>\n",
       "      <td>11.2</td>\n",
       "      <td>12.86300</td>\n",
       "      <td>8.25</td>\n",
       "      <td>156383.84</td>\n",
       "      <td>1.42</td>\n",
       "      <td>9.70</td>\n",
       "      <td>23.68</td>\n",
       "      <td>26.80</td>\n",
       "    </tr>\n",
       "    <tr>\n",
       "      <th>1</th>\n",
       "      <td>1986-02</td>\n",
       "      <td>5.114254</td>\n",
       "      <td>10.7300</td>\n",
       "      <td>11.1</td>\n",
       "      <td>12.71875</td>\n",
       "      <td>7.94</td>\n",
       "      <td>157953.04</td>\n",
       "      <td>1.43</td>\n",
       "      <td>9.99</td>\n",
       "      <td>23.68</td>\n",
       "      <td>26.80</td>\n",
       "    </tr>\n",
       "    <tr>\n",
       "      <th>2</th>\n",
       "      <td>1986-03</td>\n",
       "      <td>4.202586</td>\n",
       "      <td>9.6900</td>\n",
       "      <td>11.2</td>\n",
       "      <td>11.77679</td>\n",
       "      <td>7.50</td>\n",
       "      <td>159977.18</td>\n",
       "      <td>1.47</td>\n",
       "      <td>9.14</td>\n",
       "      <td>23.68</td>\n",
       "      <td>26.80</td>\n",
       "    </tr>\n",
       "    <tr>\n",
       "      <th>3</th>\n",
       "      <td>1986-04</td>\n",
       "      <td>3.059072</td>\n",
       "      <td>8.9400</td>\n",
       "      <td>11.3</td>\n",
       "      <td>10.57670</td>\n",
       "      <td>6.94</td>\n",
       "      <td>164349.56</td>\n",
       "      <td>1.50</td>\n",
       "      <td>7.82</td>\n",
       "      <td>23.68</td>\n",
       "      <td>26.80</td>\n",
       "    </tr>\n",
       "    <tr>\n",
       "      <th>4</th>\n",
       "      <td>1986-05</td>\n",
       "      <td>2.731092</td>\n",
       "      <td>9.1500</td>\n",
       "      <td>11.3</td>\n",
       "      <td>10.26705</td>\n",
       "      <td>7.13</td>\n",
       "      <td>165909.12</td>\n",
       "      <td>1.52</td>\n",
       "      <td>7.48</td>\n",
       "      <td>23.68</td>\n",
       "      <td>26.80</td>\n",
       "    </tr>\n",
       "    <tr>\n",
       "      <th>...</th>\n",
       "      <td>...</td>\n",
       "      <td>...</td>\n",
       "      <td>...</td>\n",
       "      <td>...</td>\n",
       "      <td>...</td>\n",
       "      <td>...</td>\n",
       "      <td>...</td>\n",
       "      <td>...</td>\n",
       "      <td>...</td>\n",
       "      <td>...</td>\n",
       "      <td>...</td>\n",
       "    </tr>\n",
       "    <tr>\n",
       "      <th>368</th>\n",
       "      <td>2016-09</td>\n",
       "      <td>1.300000</td>\n",
       "      <td>0.8243</td>\n",
       "      <td>4.8</td>\n",
       "      <td>0.37907</td>\n",
       "      <td>0.53</td>\n",
       "      <td>1896169.76</td>\n",
       "      <td>1.31</td>\n",
       "      <td>0.61</td>\n",
       "      <td>4.11</td>\n",
       "      <td>17.94</td>\n",
       "    </tr>\n",
       "    <tr>\n",
       "      <th>369</th>\n",
       "      <td>2016-10</td>\n",
       "      <td>1.300000</td>\n",
       "      <td>1.0780</td>\n",
       "      <td>4.8</td>\n",
       "      <td>0.39750</td>\n",
       "      <td>0.62</td>\n",
       "      <td>1892910.57</td>\n",
       "      <td>1.23</td>\n",
       "      <td>0.60</td>\n",
       "      <td>3.75</td>\n",
       "      <td>17.95</td>\n",
       "    </tr>\n",
       "    <tr>\n",
       "      <th>370</th>\n",
       "      <td>2016-11</td>\n",
       "      <td>1.500000</td>\n",
       "      <td>1.3818</td>\n",
       "      <td>4.7</td>\n",
       "      <td>0.39773</td>\n",
       "      <td>0.77</td>\n",
       "      <td>1902530.37</td>\n",
       "      <td>1.24</td>\n",
       "      <td>0.46</td>\n",
       "      <td>3.76</td>\n",
       "      <td>17.96</td>\n",
       "    </tr>\n",
       "    <tr>\n",
       "      <th>371</th>\n",
       "      <td>2016-12</td>\n",
       "      <td>1.800000</td>\n",
       "      <td>1.4336</td>\n",
       "      <td>4.7</td>\n",
       "      <td>0.37226</td>\n",
       "      <td>0.78</td>\n",
       "      <td>1908201.00</td>\n",
       "      <td>1.25</td>\n",
       "      <td>0.40</td>\n",
       "      <td>3.74</td>\n",
       "      <td>17.96</td>\n",
       "    </tr>\n",
       "    <tr>\n",
       "      <th>372</th>\n",
       "      <td>2017-01</td>\n",
       "      <td>1.900000</td>\n",
       "      <td>1.4203</td>\n",
       "      <td>4.6</td>\n",
       "      <td>0.36210</td>\n",
       "      <td>0.79</td>\n",
       "      <td>1904599.32</td>\n",
       "      <td>1.24</td>\n",
       "      <td>0.37</td>\n",
       "      <td>3.68</td>\n",
       "      <td>17.96</td>\n",
       "    </tr>\n",
       "  </tbody>\n",
       "</table>\n",
       "<p>373 rows × 11 columns</p>\n",
       "</div>"
      ],
      "text/plain": [
       "        date  Inflation     LTIR  Unemployment      STIR  LIBOR       BCTPS  \\\n",
       "0    1986-01   5.482456  11.1300          11.2  12.86300   8.25   156383.84   \n",
       "1    1986-02   5.114254  10.7300          11.1  12.71875   7.94   157953.04   \n",
       "2    1986-03   4.202586   9.6900          11.2  11.77679   7.50   159977.18   \n",
       "3    1986-04   3.059072   8.9400          11.3  10.57670   6.94   164349.56   \n",
       "4    1986-05   2.731092   9.1500          11.3  10.26705   7.13   165909.12   \n",
       "..       ...        ...      ...           ...       ...    ...         ...   \n",
       "368  2016-09   1.300000   0.8243           4.8   0.37907   0.53  1896169.76   \n",
       "369  2016-10   1.300000   1.0780           4.8   0.39750   0.62  1892910.57   \n",
       "370  2016-11   1.500000   1.3818           4.7   0.39773   0.77  1902530.37   \n",
       "371  2016-12   1.800000   1.4336           4.7   0.37226   0.78  1908201.00   \n",
       "372  2017-01   1.900000   1.4203           4.6   0.36210   0.79  1904599.32   \n",
       "\n",
       "     UKUSFX   BDR   HPLR   HCCR  \n",
       "0      1.42  9.70  23.68  26.80  \n",
       "1      1.43  9.99  23.68  26.80  \n",
       "2      1.47  9.14  23.68  26.80  \n",
       "3      1.50  7.82  23.68  26.80  \n",
       "4      1.52  7.48  23.68  26.80  \n",
       "..      ...   ...    ...    ...  \n",
       "368    1.31  0.61   4.11  17.94  \n",
       "369    1.23  0.60   3.75  17.95  \n",
       "370    1.24  0.46   3.76  17.96  \n",
       "371    1.25  0.40   3.74  17.96  \n",
       "372    1.24  0.37   3.68  17.96  \n",
       "\n",
       "[373 rows x 11 columns]"
      ]
     },
     "execution_count": 50,
     "metadata": {},
     "output_type": "execute_result"
    }
   ],
   "source": [
    "df = pd.read_csv('Data set2.csv')\n",
    "df"
   ]
  },
  {
   "cell_type": "code",
   "execution_count": 56,
   "id": "ff3ff17e",
   "metadata": {},
   "outputs": [
    {
     "data": {
      "text/plain": [
       "False"
      ]
     },
     "execution_count": 56,
     "metadata": {},
     "output_type": "execute_result"
    }
   ],
   "source": [
    "df.isnull().values.any()"
   ]
  },
  {
   "cell_type": "code",
   "execution_count": 51,
   "id": "329cb377",
   "metadata": {},
   "outputs": [],
   "source": [
    "df=df.dropna()\n",
    "df = df.drop(labels=372, axis=0)"
   ]
  },
  {
   "cell_type": "code",
   "execution_count": 3,
   "id": "fd01e066",
   "metadata": {},
   "outputs": [
    {
     "data": {
      "text/html": [
       "<div>\n",
       "<style scoped>\n",
       "    .dataframe tbody tr th:only-of-type {\n",
       "        vertical-align: middle;\n",
       "    }\n",
       "\n",
       "    .dataframe tbody tr th {\n",
       "        vertical-align: top;\n",
       "    }\n",
       "\n",
       "    .dataframe thead th {\n",
       "        text-align: right;\n",
       "    }\n",
       "</style>\n",
       "<table border=\"1\" class=\"dataframe\">\n",
       "  <thead>\n",
       "    <tr style=\"text-align: right;\">\n",
       "      <th></th>\n",
       "      <th>date</th>\n",
       "      <th>Inflation</th>\n",
       "      <th>LTIR</th>\n",
       "      <th>Unemployment</th>\n",
       "      <th>STIR</th>\n",
       "      <th>LIBOR</th>\n",
       "      <th>BCTPS</th>\n",
       "      <th>UKUSFX</th>\n",
       "      <th>BDR</th>\n",
       "      <th>HPLR</th>\n",
       "      <th>HCCR</th>\n",
       "    </tr>\n",
       "  </thead>\n",
       "  <tbody>\n",
       "    <tr>\n",
       "      <th>0</th>\n",
       "      <td>1986-01</td>\n",
       "      <td>5.482456</td>\n",
       "      <td>11.13</td>\n",
       "      <td>11.2</td>\n",
       "      <td>12.86300</td>\n",
       "      <td>8.25</td>\n",
       "      <td>156383.84</td>\n",
       "      <td>1.42</td>\n",
       "      <td>9.70</td>\n",
       "      <td>23.68</td>\n",
       "      <td>26.8</td>\n",
       "    </tr>\n",
       "    <tr>\n",
       "      <th>1</th>\n",
       "      <td>1986-02</td>\n",
       "      <td>5.114254</td>\n",
       "      <td>10.73</td>\n",
       "      <td>11.1</td>\n",
       "      <td>12.71875</td>\n",
       "      <td>7.94</td>\n",
       "      <td>157953.04</td>\n",
       "      <td>1.43</td>\n",
       "      <td>9.99</td>\n",
       "      <td>23.68</td>\n",
       "      <td>26.8</td>\n",
       "    </tr>\n",
       "    <tr>\n",
       "      <th>2</th>\n",
       "      <td>1986-03</td>\n",
       "      <td>4.202586</td>\n",
       "      <td>9.69</td>\n",
       "      <td>11.2</td>\n",
       "      <td>11.77679</td>\n",
       "      <td>7.50</td>\n",
       "      <td>159977.18</td>\n",
       "      <td>1.47</td>\n",
       "      <td>9.14</td>\n",
       "      <td>23.68</td>\n",
       "      <td>26.8</td>\n",
       "    </tr>\n",
       "    <tr>\n",
       "      <th>3</th>\n",
       "      <td>1986-04</td>\n",
       "      <td>3.059072</td>\n",
       "      <td>8.94</td>\n",
       "      <td>11.3</td>\n",
       "      <td>10.57670</td>\n",
       "      <td>6.94</td>\n",
       "      <td>164349.56</td>\n",
       "      <td>1.50</td>\n",
       "      <td>7.82</td>\n",
       "      <td>23.68</td>\n",
       "      <td>26.8</td>\n",
       "    </tr>\n",
       "    <tr>\n",
       "      <th>4</th>\n",
       "      <td>1986-05</td>\n",
       "      <td>2.731092</td>\n",
       "      <td>9.15</td>\n",
       "      <td>11.3</td>\n",
       "      <td>10.26705</td>\n",
       "      <td>7.13</td>\n",
       "      <td>165909.12</td>\n",
       "      <td>1.52</td>\n",
       "      <td>7.48</td>\n",
       "      <td>23.68</td>\n",
       "      <td>26.8</td>\n",
       "    </tr>\n",
       "  </tbody>\n",
       "</table>\n",
       "</div>"
      ],
      "text/plain": [
       "      date  Inflation   LTIR  Unemployment      STIR  LIBOR      BCTPS  \\\n",
       "0  1986-01   5.482456  11.13          11.2  12.86300   8.25  156383.84   \n",
       "1  1986-02   5.114254  10.73          11.1  12.71875   7.94  157953.04   \n",
       "2  1986-03   4.202586   9.69          11.2  11.77679   7.50  159977.18   \n",
       "3  1986-04   3.059072   8.94          11.3  10.57670   6.94  164349.56   \n",
       "4  1986-05   2.731092   9.15          11.3  10.26705   7.13  165909.12   \n",
       "\n",
       "   UKUSFX   BDR   HPLR  HCCR  \n",
       "0    1.42  9.70  23.68  26.8  \n",
       "1    1.43  9.99  23.68  26.8  \n",
       "2    1.47  9.14  23.68  26.8  \n",
       "3    1.50  7.82  23.68  26.8  \n",
       "4    1.52  7.48  23.68  26.8  "
      ]
     },
     "execution_count": 3,
     "metadata": {},
     "output_type": "execute_result"
    }
   ],
   "source": [
    "df.head()"
   ]
  },
  {
   "cell_type": "code",
   "execution_count": 4,
   "id": "f1ed0a40",
   "metadata": {
    "scrolled": true
   },
   "outputs": [
    {
     "data": {
      "text/plain": [
       "array(['date', 'Inflation', 'LTIR', 'Unemployment', 'STIR', 'LIBOR',\n",
       "       'BCTPS', 'UKUSFX', 'BDR', 'HPLR', 'HCCR'], dtype=object)"
      ]
     },
     "execution_count": 4,
     "metadata": {},
     "output_type": "execute_result"
    }
   ],
   "source": [
    "df.columns.values\n"
   ]
  },
  {
   "cell_type": "code",
   "execution_count": 5,
   "id": "a4ed0519",
   "metadata": {},
   "outputs": [
    {
     "data": {
      "text/plain": [
       "(372, 11)"
      ]
     },
     "execution_count": 5,
     "metadata": {},
     "output_type": "execute_result"
    }
   ],
   "source": [
    "df.shape"
   ]
  },
  {
   "cell_type": "code",
   "execution_count": 6,
   "id": "ccad841a",
   "metadata": {
    "scrolled": true
   },
   "outputs": [
    {
     "data": {
      "text/html": [
       "<div>\n",
       "<style scoped>\n",
       "    .dataframe tbody tr th:only-of-type {\n",
       "        vertical-align: middle;\n",
       "    }\n",
       "\n",
       "    .dataframe tbody tr th {\n",
       "        vertical-align: top;\n",
       "    }\n",
       "\n",
       "    .dataframe thead th {\n",
       "        text-align: right;\n",
       "    }\n",
       "</style>\n",
       "<table border=\"1\" class=\"dataframe\">\n",
       "  <thead>\n",
       "    <tr style=\"text-align: right;\">\n",
       "      <th></th>\n",
       "      <th>Inflation</th>\n",
       "      <th>LTIR</th>\n",
       "      <th>Unemployment</th>\n",
       "      <th>STIR</th>\n",
       "      <th>LIBOR</th>\n",
       "      <th>BCTPS</th>\n",
       "      <th>UKUSFX</th>\n",
       "      <th>BDR</th>\n",
       "      <th>HPLR</th>\n",
       "      <th>HCCR</th>\n",
       "    </tr>\n",
       "  </thead>\n",
       "  <tbody>\n",
       "    <tr>\n",
       "      <th>count</th>\n",
       "      <td>372.000000</td>\n",
       "      <td>372.000000</td>\n",
       "      <td>372.000000</td>\n",
       "      <td>372.000000</td>\n",
       "      <td>372.000000</td>\n",
       "      <td>3.720000e+02</td>\n",
       "      <td>372.000000</td>\n",
       "      <td>372.000000</td>\n",
       "      <td>372.000000</td>\n",
       "      <td>372.000000</td>\n",
       "    </tr>\n",
       "    <tr>\n",
       "      <th>mean</th>\n",
       "      <td>2.812015</td>\n",
       "      <td>5.916865</td>\n",
       "      <td>7.122581</td>\n",
       "      <td>5.672995</td>\n",
       "      <td>3.803495</td>\n",
       "      <td>9.702633e+05</td>\n",
       "      <td>1.637796</td>\n",
       "      <td>3.513683</td>\n",
       "      <td>13.271586</td>\n",
       "      <td>20.282097</td>\n",
       "    </tr>\n",
       "    <tr>\n",
       "      <th>std</th>\n",
       "      <td>1.794348</td>\n",
       "      <td>2.878479</td>\n",
       "      <td>1.875556</td>\n",
       "      <td>3.991713</td>\n",
       "      <td>2.800312</td>\n",
       "      <td>5.815179e+05</td>\n",
       "      <td>0.157353</td>\n",
       "      <td>2.914781</td>\n",
       "      <td>6.647735</td>\n",
       "      <td>4.393240</td>\n",
       "    </tr>\n",
       "    <tr>\n",
       "      <th>min</th>\n",
       "      <td>0.200000</td>\n",
       "      <td>0.742100</td>\n",
       "      <td>4.700000</td>\n",
       "      <td>0.372260</td>\n",
       "      <td>0.150000</td>\n",
       "      <td>1.563838e+05</td>\n",
       "      <td>1.230000</td>\n",
       "      <td>0.400000</td>\n",
       "      <td>3.740000</td>\n",
       "      <td>14.800000</td>\n",
       "    </tr>\n",
       "    <tr>\n",
       "      <th>25%</th>\n",
       "      <td>1.600000</td>\n",
       "      <td>3.973650</td>\n",
       "      <td>5.300000</td>\n",
       "      <td>1.757075</td>\n",
       "      <td>0.530000</td>\n",
       "      <td>4.366761e+05</td>\n",
       "      <td>1.530000</td>\n",
       "      <td>1.067500</td>\n",
       "      <td>7.857500</td>\n",
       "      <td>16.527500</td>\n",
       "    </tr>\n",
       "    <tr>\n",
       "      <th>50%</th>\n",
       "      <td>2.400000</td>\n",
       "      <td>5.081650</td>\n",
       "      <td>6.900000</td>\n",
       "      <td>5.558480</td>\n",
       "      <td>4.140000</td>\n",
       "      <td>8.231306e+05</td>\n",
       "      <td>1.610000</td>\n",
       "      <td>2.840000</td>\n",
       "      <td>11.715000</td>\n",
       "      <td>18.270000</td>\n",
       "    </tr>\n",
       "    <tr>\n",
       "      <th>75%</th>\n",
       "      <td>3.300000</td>\n",
       "      <td>8.349450</td>\n",
       "      <td>8.300000</td>\n",
       "      <td>7.384032</td>\n",
       "      <td>5.880000</td>\n",
       "      <td>1.691196e+06</td>\n",
       "      <td>1.720000</td>\n",
       "      <td>3.720000</td>\n",
       "      <td>19.550000</td>\n",
       "      <td>23.040000</td>\n",
       "    </tr>\n",
       "    <tr>\n",
       "      <th>max</th>\n",
       "      <td>9.200000</td>\n",
       "      <td>12.740000</td>\n",
       "      <td>11.300000</td>\n",
       "      <td>15.316760</td>\n",
       "      <td>10.060000</td>\n",
       "      <td>1.908201e+06</td>\n",
       "      <td>2.070000</td>\n",
       "      <td>11.820000</td>\n",
       "      <td>26.550000</td>\n",
       "      <td>29.940000</td>\n",
       "    </tr>\n",
       "  </tbody>\n",
       "</table>\n",
       "</div>"
      ],
      "text/plain": [
       "        Inflation        LTIR  Unemployment        STIR       LIBOR  \\\n",
       "count  372.000000  372.000000    372.000000  372.000000  372.000000   \n",
       "mean     2.812015    5.916865      7.122581    5.672995    3.803495   \n",
       "std      1.794348    2.878479      1.875556    3.991713    2.800312   \n",
       "min      0.200000    0.742100      4.700000    0.372260    0.150000   \n",
       "25%      1.600000    3.973650      5.300000    1.757075    0.530000   \n",
       "50%      2.400000    5.081650      6.900000    5.558480    4.140000   \n",
       "75%      3.300000    8.349450      8.300000    7.384032    5.880000   \n",
       "max      9.200000   12.740000     11.300000   15.316760   10.060000   \n",
       "\n",
       "              BCTPS      UKUSFX         BDR        HPLR        HCCR  \n",
       "count  3.720000e+02  372.000000  372.000000  372.000000  372.000000  \n",
       "mean   9.702633e+05    1.637796    3.513683   13.271586   20.282097  \n",
       "std    5.815179e+05    0.157353    2.914781    6.647735    4.393240  \n",
       "min    1.563838e+05    1.230000    0.400000    3.740000   14.800000  \n",
       "25%    4.366761e+05    1.530000    1.067500    7.857500   16.527500  \n",
       "50%    8.231306e+05    1.610000    2.840000   11.715000   18.270000  \n",
       "75%    1.691196e+06    1.720000    3.720000   19.550000   23.040000  \n",
       "max    1.908201e+06    2.070000   11.820000   26.550000   29.940000  "
      ]
     },
     "execution_count": 6,
     "metadata": {},
     "output_type": "execute_result"
    }
   ],
   "source": [
    "df.describe()"
   ]
  },
  {
   "cell_type": "code",
   "execution_count": 7,
   "id": "af06df11",
   "metadata": {},
   "outputs": [],
   "source": [
    "corr = df.corr() "
   ]
  },
  {
   "cell_type": "code",
   "execution_count": 8,
   "id": "e10c6bef",
   "metadata": {},
   "outputs": [
    {
     "data": {
      "text/plain": [
       "Text(0.5, 1.0, 'Correlation matrix')"
      ]
     },
     "execution_count": 8,
     "metadata": {},
     "output_type": "execute_result"
    },
    {
     "data": {
      "image/png": "[encoded data removed]",
      "text/plain": [
       "<Figure size 720x720 with 2 Axes>"
      ]
     },
     "metadata": {
      "needs_background": "light"
     },
     "output_type": "display_data"
    }
   ],
   "source": [
    "#Plotting the Correlation Matrix\n",
    "plt.figure(figsize=(10,10))\n",
    "sns.heatmap(corr, vmax=1, square=True,annot=True)\n",
    "plt.title('Correlation matrix')"
   ]
  },
  {
   "cell_type": "code",
   "execution_count": 9,
   "id": "4f11fe8f",
   "metadata": {},
   "outputs": [
    {
     "data": {
      "image/png": "[encoded data removed]",
      "text/plain": [
       "<Figure size 720x720 with 2 Axes>"
      ]
     },
     "metadata": {
      "needs_background": "light"
     },
     "output_type": "display_data"
    }
   ],
   "source": [
    "mask = np.triu(np.ones_like(df.corr()))\n",
    "plt.figure(figsize=(10,10))\n",
    " \n",
    "# plotting a triangle correlation heatmap\n",
    "dataplot = sns.heatmap(df.corr(), annot=True, mask=mask)\n",
    " \n",
    "# displaying heatmap\n",
    "plt.show()"
   ]
  },
  {
   "cell_type": "code",
   "execution_count": 10,
   "id": "7964239f",
   "metadata": {},
   "outputs": [
    {
     "data": {
      "text/plain": [
       "STIR         1.000000\n",
       "BDR          0.955863\n",
       "LTIR         0.930719\n",
       "LIBOR        0.896387\n",
       "HPLR         0.886444\n",
       "HCCR         0.842532\n",
       "BCTPS        0.837870\n",
       "Inflation    0.735556\n",
       "Name: STIR, dtype: float64"
      ]
     },
     "execution_count": 10,
     "metadata": {},
     "output_type": "execute_result"
    }
   ],
   "source": [
    "cor_target = abs(corr[\"STIR\"])#Selecting highly correlated features\n",
    "relevant_features = cor_target[cor_target>0.5].sort_values(ascending = False)\n",
    "relevant_features"
   ]
  },
  {
   "cell_type": "code",
   "execution_count": 57,
   "id": "aee74b93",
   "metadata": {},
   "outputs": [],
   "source": [
    "df2 = df['STIR']\n",
    "#df['Date'] = pd.PeriodIndex(df.date, freq='M').to_timestamp()\n",
    "#df = df.set_index(['Date'])\n",
    "#df = df.drop(['date'],axis=1)\n",
    "\n",
    "df1 = df[['HPLR','BDR','LTIR','BCTPS','LIBOR','Inflation','HCCR']]"
   ]
  },
  {
   "cell_type": "code",
   "execution_count": 58,
   "id": "5892aed3",
   "metadata": {},
   "outputs": [
    {
     "data": {
      "text/html": [
       "<div>\n",
       "<style scoped>\n",
       "    .dataframe tbody tr th:only-of-type {\n",
       "        vertical-align: middle;\n",
       "    }\n",
       "\n",
       "    .dataframe tbody tr th {\n",
       "        vertical-align: top;\n",
       "    }\n",
       "\n",
       "    .dataframe thead th {\n",
       "        text-align: right;\n",
       "    }\n",
       "</style>\n",
       "<table border=\"1\" class=\"dataframe\">\n",
       "  <thead>\n",
       "    <tr style=\"text-align: right;\">\n",
       "      <th></th>\n",
       "      <th>HPLR</th>\n",
       "      <th>BDR</th>\n",
       "      <th>LTIR</th>\n",
       "      <th>BCTPS</th>\n",
       "      <th>LIBOR</th>\n",
       "      <th>Inflation</th>\n",
       "      <th>HCCR</th>\n",
       "    </tr>\n",
       "  </thead>\n",
       "  <tbody>\n",
       "    <tr>\n",
       "      <th>0</th>\n",
       "      <td>23.68</td>\n",
       "      <td>9.70</td>\n",
       "      <td>11.13</td>\n",
       "      <td>156383.84</td>\n",
       "      <td>8.25</td>\n",
       "      <td>5.482456</td>\n",
       "      <td>26.8</td>\n",
       "    </tr>\n",
       "    <tr>\n",
       "      <th>1</th>\n",
       "      <td>23.68</td>\n",
       "      <td>9.99</td>\n",
       "      <td>10.73</td>\n",
       "      <td>157953.04</td>\n",
       "      <td>7.94</td>\n",
       "      <td>5.114254</td>\n",
       "      <td>26.8</td>\n",
       "    </tr>\n",
       "    <tr>\n",
       "      <th>2</th>\n",
       "      <td>23.68</td>\n",
       "      <td>9.14</td>\n",
       "      <td>9.69</td>\n",
       "      <td>159977.18</td>\n",
       "      <td>7.50</td>\n",
       "      <td>4.202586</td>\n",
       "      <td>26.8</td>\n",
       "    </tr>\n",
       "    <tr>\n",
       "      <th>3</th>\n",
       "      <td>23.68</td>\n",
       "      <td>7.82</td>\n",
       "      <td>8.94</td>\n",
       "      <td>164349.56</td>\n",
       "      <td>6.94</td>\n",
       "      <td>3.059072</td>\n",
       "      <td>26.8</td>\n",
       "    </tr>\n",
       "    <tr>\n",
       "      <th>4</th>\n",
       "      <td>23.68</td>\n",
       "      <td>7.48</td>\n",
       "      <td>9.15</td>\n",
       "      <td>165909.12</td>\n",
       "      <td>7.13</td>\n",
       "      <td>2.731092</td>\n",
       "      <td>26.8</td>\n",
       "    </tr>\n",
       "  </tbody>\n",
       "</table>\n",
       "</div>"
      ],
      "text/plain": [
       "    HPLR   BDR   LTIR      BCTPS  LIBOR  Inflation  HCCR\n",
       "0  23.68  9.70  11.13  156383.84   8.25   5.482456  26.8\n",
       "1  23.68  9.99  10.73  157953.04   7.94   5.114254  26.8\n",
       "2  23.68  9.14   9.69  159977.18   7.50   4.202586  26.8\n",
       "3  23.68  7.82   8.94  164349.56   6.94   3.059072  26.8\n",
       "4  23.68  7.48   9.15  165909.12   7.13   2.731092  26.8"
      ]
     },
     "execution_count": 58,
     "metadata": {},
     "output_type": "execute_result"
    }
   ],
   "source": [
    "df1.head()"
   ]
  },
  {
   "cell_type": "code",
   "execution_count": 13,
   "id": "966e3da9",
   "metadata": {},
   "outputs": [],
   "source": [
    "features = ['HPLR','BDR','LTIR','BCTPS','LIBOR','Unemployment','Inflation','HCCR']"
   ]
  },
  {
   "cell_type": "code",
   "execution_count": 59,
   "id": "a5f13950",
   "metadata": {},
   "outputs": [],
   "source": [
    "from sklearn.preprocessing import StandardScaler\n",
    "\n",
    "scaler = StandardScaler()\n",
    "scaler.fit(df1)\n",
    "data_rescaled = scaler.transform(df1)"
   ]
  },
  {
   "cell_type": "code",
   "execution_count": 60,
   "id": "d11ca04b",
   "metadata": {},
   "outputs": [],
   "source": [
    "#95% of variance\n",
    "from sklearn.decomposition import PCA\n",
    "pca = PCA(n_components = 0.95)\n",
    "pca.fit(data_rescaled)\n",
    "reduced = pca.transform(data_rescaled)"
   ]
  },
  {
   "cell_type": "code",
   "execution_count": 61,
   "id": "aae4c4b2",
   "metadata": {},
   "outputs": [
    {
     "data": {
      "text/plain": [
       "array([[ 4.3443149 ,  0.21465512,  0.36635691],\n",
       "       [ 4.21863481,  0.14361308,  0.31236714],\n",
       "       [ 3.73417587, -0.19671787,  0.08045211],\n",
       "       ...,\n",
       "       [-3.12355291,  0.50344049,  0.03506025],\n",
       "       [-3.04827085,  0.55177981,  0.06302553],\n",
       "       [-2.99762211,  0.67115262,  0.07543254]])"
      ]
     },
     "execution_count": 61,
     "metadata": {},
     "output_type": "execute_result"
    }
   ],
   "source": [
    "reduced"
   ]
  },
  {
   "cell_type": "code",
   "execution_count": 62,
   "id": "7046299b",
   "metadata": {},
   "outputs": [
    {
     "data": {
      "image/png": "[encoded data removed]",
      "text/plain": [
       "<Figure size 864x432 with 1 Axes>"
      ]
     },
     "metadata": {
      "needs_background": "light"
     },
     "output_type": "display_data"
    }
   ],
   "source": [
    "from sklearn.decomposition import PCA\n",
    "pca = PCA().fit(data_rescaled)\n",
    "\n",
    "plt.rcParams[\"figure.figsize\"] = (12,6)\n",
    "\n",
    "fig, ax = plt.subplots()\n",
    "xi = np.arange(1, 8, step=1)\n",
    "y = np.cumsum(pca.explained_variance_ratio_)\n",
    "\n",
    "plt.ylim(0.0,1.1)\n",
    "plt.plot(xi, y, marker='o', linestyle='--', color='b')\n",
    "\n",
    "plt.xlabel('Number of Components')\n",
    "plt.xticks(np.arange(0, 10, step=1)) #change from 0-based array index to 1-based human-readable label\n",
    "plt.ylabel('Cumulative variance (%)')\n",
    "plt.title('The number of components needed to explain variance')\n",
    "\n",
    "plt.axhline(y=0.95, color='r', linestyle='-')\n",
    "plt.text(0.5, 0.85, '95% cut-off threshold', color = 'red', fontsize=16)\n",
    "\n",
    "ax.grid(axis='x')\n",
    "plt.show()"
   ]
  },
  {
   "cell_type": "code",
   "execution_count": 63,
   "id": "5d6a7002",
   "metadata": {},
   "outputs": [
    {
     "data": {
      "text/html": [
       "<div>\n",
       "<style scoped>\n",
       "    .dataframe tbody tr th:only-of-type {\n",
       "        vertical-align: middle;\n",
       "    }\n",
       "\n",
       "    .dataframe tbody tr th {\n",
       "        vertical-align: top;\n",
       "    }\n",
       "\n",
       "    .dataframe thead th {\n",
       "        text-align: right;\n",
       "    }\n",
       "</style>\n",
       "<table border=\"1\" class=\"dataframe\">\n",
       "  <thead>\n",
       "    <tr style=\"text-align: right;\">\n",
       "      <th></th>\n",
       "      <th>HPLR</th>\n",
       "      <th>BDR</th>\n",
       "      <th>LTIR</th>\n",
       "      <th>BCTPS</th>\n",
       "      <th>LIBOR</th>\n",
       "      <th>Inflation</th>\n",
       "      <th>HCCR</th>\n",
       "    </tr>\n",
       "  </thead>\n",
       "  <tbody>\n",
       "    <tr>\n",
       "      <th>0</th>\n",
       "      <td>1.567817</td>\n",
       "      <td>2.125253</td>\n",
       "      <td>1.813512</td>\n",
       "      <td>-1.401463</td>\n",
       "      <td>1.589999</td>\n",
       "      <td>1.490256</td>\n",
       "      <td>1.485619</td>\n",
       "    </tr>\n",
       "    <tr>\n",
       "      <th>1</th>\n",
       "      <td>1.567817</td>\n",
       "      <td>2.224880</td>\n",
       "      <td>1.674363</td>\n",
       "      <td>-1.398761</td>\n",
       "      <td>1.479148</td>\n",
       "      <td>1.284779</td>\n",
       "      <td>1.485619</td>\n",
       "    </tr>\n",
       "    <tr>\n",
       "      <th>2</th>\n",
       "      <td>1.567817</td>\n",
       "      <td>1.932870</td>\n",
       "      <td>1.312574</td>\n",
       "      <td>-1.395275</td>\n",
       "      <td>1.321811</td>\n",
       "      <td>0.776017</td>\n",
       "      <td>1.485619</td>\n",
       "    </tr>\n",
       "    <tr>\n",
       "      <th>3</th>\n",
       "      <td>1.567817</td>\n",
       "      <td>1.479396</td>\n",
       "      <td>1.051669</td>\n",
       "      <td>-1.387746</td>\n",
       "      <td>1.121564</td>\n",
       "      <td>0.137871</td>\n",
       "      <td>1.485619</td>\n",
       "    </tr>\n",
       "    <tr>\n",
       "      <th>4</th>\n",
       "      <td>1.567817</td>\n",
       "      <td>1.362592</td>\n",
       "      <td>1.124722</td>\n",
       "      <td>-1.385061</td>\n",
       "      <td>1.189505</td>\n",
       "      <td>-0.045160</td>\n",
       "      <td>1.485619</td>\n",
       "    </tr>\n",
       "  </tbody>\n",
       "</table>\n",
       "</div>"
      ],
      "text/plain": [
       "       HPLR       BDR      LTIR     BCTPS     LIBOR  Inflation      HCCR\n",
       "0  1.567817  2.125253  1.813512 -1.401463  1.589999   1.490256  1.485619\n",
       "1  1.567817  2.224880  1.674363 -1.398761  1.479148   1.284779  1.485619\n",
       "2  1.567817  1.932870  1.312574 -1.395275  1.321811   0.776017  1.485619\n",
       "3  1.567817  1.479396  1.051669 -1.387746  1.121564   0.137871  1.485619\n",
       "4  1.567817  1.362592  1.124722 -1.385061  1.189505  -0.045160  1.485619"
      ]
     },
     "execution_count": 63,
     "metadata": {},
     "output_type": "execute_result"
    }
   ],
   "source": [
    "dr_df = pd.DataFrame(data_rescaled)\n",
    "dr_df = dr_df.rename({0 : 'HPLR',1: 'BDR',2: 'LTIR',3: 'BCTPS',4: 'LIBOR',5: 'Inflation',6: 'HCCR'},axis=1)\n",
    "dr_df.head()"
   ]
  },
  {
   "cell_type": "code",
   "execution_count": 64,
   "id": "acbe63e3",
   "metadata": {},
   "outputs": [
    {
     "data": {
      "text/plain": [
       "array([0.82262553, 0.09304908, 0.04361752, 0.01936617, 0.01184912,\n",
       "       0.00585945, 0.00363313])"
      ]
     },
     "execution_count": 64,
     "metadata": {},
     "output_type": "execute_result"
    }
   ],
   "source": [
    "pca.explained_variance_ratio_"
   ]
  },
  {
   "cell_type": "code",
   "execution_count": 65,
   "id": "7b43d686",
   "metadata": {
    "scrolled": true
   },
   "outputs": [
    {
     "data": {
      "text/html": [
       "<div>\n",
       "<style scoped>\n",
       "    .dataframe tbody tr th:only-of-type {\n",
       "        vertical-align: middle;\n",
       "    }\n",
       "\n",
       "    .dataframe tbody tr th {\n",
       "        vertical-align: top;\n",
       "    }\n",
       "\n",
       "    .dataframe thead th {\n",
       "        text-align: right;\n",
       "    }\n",
       "</style>\n",
       "<table border=\"1\" class=\"dataframe\">\n",
       "  <thead>\n",
       "    <tr style=\"text-align: right;\">\n",
       "      <th></th>\n",
       "      <th>Variance</th>\n",
       "    </tr>\n",
       "    <tr>\n",
       "      <th></th>\n",
       "      <th></th>\n",
       "    </tr>\n",
       "  </thead>\n",
       "  <tbody>\n",
       "    <tr>\n",
       "      <th>PC1</th>\n",
       "      <td>0.822626</td>\n",
       "    </tr>\n",
       "    <tr>\n",
       "      <th>PC2</th>\n",
       "      <td>0.093049</td>\n",
       "    </tr>\n",
       "    <tr>\n",
       "      <th>PC3</th>\n",
       "      <td>0.043618</td>\n",
       "    </tr>\n",
       "    <tr>\n",
       "      <th>PC4</th>\n",
       "      <td>0.019366</td>\n",
       "    </tr>\n",
       "    <tr>\n",
       "      <th>PC5</th>\n",
       "      <td>0.011849</td>\n",
       "    </tr>\n",
       "    <tr>\n",
       "      <th>PC6</th>\n",
       "      <td>0.005859</td>\n",
       "    </tr>\n",
       "    <tr>\n",
       "      <th>PC7</th>\n",
       "      <td>0.003633</td>\n",
       "    </tr>\n",
       "  </tbody>\n",
       "</table>\n",
       "</div>"
      ],
      "text/plain": [
       "     Variance\n",
       "             \n",
       "PC1  0.822626\n",
       "PC2  0.093049\n",
       "PC3  0.043618\n",
       "PC4  0.019366\n",
       "PC5  0.011849\n",
       "PC6  0.005859\n",
       "PC7  0.003633"
      ]
     },
     "execution_count": 65,
     "metadata": {},
     "output_type": "execute_result"
    }
   ],
   "source": [
    "evr = pd.DataFrame(data = pca.explained_variance_ratio_,columns = ['Variance'])\n",
    "evr\n",
    "Name = ['PC1','PC2','PC3','PC4','PC5','PC6','PC7']#,'PC9']\n",
    "evr[' ']  = Name\n",
    "evr = evr.set_index(' ')\n",
    "evr\n",
    "#evrd = pd.DataFrame(evr)"
   ]
  },
  {
   "cell_type": "code",
   "execution_count": 66,
   "id": "2d69caae",
   "metadata": {},
   "outputs": [
    {
     "data": {
      "text/plain": [
       "<matplotlib.lines.Line2D at 0x25ac8fcc7c0>"
      ]
     },
     "execution_count": 66,
     "metadata": {},
     "output_type": "execute_result"
    },
    {
     "data": {
      "image/png": "[encoded data removed]",
      "text/plain": [
       "<Figure size 864x432 with 1 Axes>"
      ]
     },
     "metadata": {
      "needs_background": "light"
     },
     "output_type": "display_data"
    }
   ],
   "source": [
    "plt.plot(np.cumsum(pca.explained_variance_ratio_))\n",
    "plt.xlabel('Number of Components')\n",
    "plt.ylabel('Explained Variance')\n",
    "plt.axhline(y=0.95, color='r', linestyle='-')\n"
   ]
  },
  {
   "cell_type": "code",
   "execution_count": 67,
   "id": "cb0f3f5b",
   "metadata": {},
   "outputs": [
    {
     "name": "stdout",
     "output_type": "stream",
     "text": [
      "\n",
      "Information (Variance) attributed by each Principal Component \n",
      "Variance explained by First Princiapal Component =  82.26255307413193\n",
      "Variance explained by First 2 Princiapal Components =  91.56746106409777\n",
      "Variance explained by First 3 Princiapal Components =  95.9292127418822\n",
      "Variance explained by First 4 Princiapal Components =  97.86582999720484\n"
     ]
    }
   ],
   "source": [
    "print('\\nInformation (Variance) attributed by each Principal Component ')\n",
    "print('Variance explained by First Princiapal Component = ',np.cumsum(pca.explained_variance_ratio_*100)[0])\n",
    "print('Variance explained by First 2 Princiapal Components = ',np.cumsum(pca.explained_variance_ratio_*100)[1])\n",
    "print('Variance explained by First 3 Princiapal Components = ',np.cumsum(pca.explained_variance_ratio_*100)[2])\n",
    "print('Variance explained by First 4 Princiapal Components = ',np.cumsum(pca.explained_variance_ratio_*100)[3])\n",
    "#print('Variance explained by First 5 Princiapal Components = ',np.cumsum(pca.explained_variance_ratio_*100)[4])"
   ]
  },
  {
   "cell_type": "code",
   "execution_count": 68,
   "id": "38a3aafd",
   "metadata": {},
   "outputs": [],
   "source": [
    "pca_3 = PCA(n_components = 3)\n",
    "pca_3.fit(data_rescaled)\n",
    "reduced_3 = pca_3.transform(data_rescaled)"
   ]
  },
  {
   "cell_type": "code",
   "execution_count": 69,
   "id": "621ca6e1",
   "metadata": {},
   "outputs": [],
   "source": [
    "#We are splitting each principal Component \n",
    "pc_1 = reduced_3[:,0]\n",
    "pc_2 = reduced_3[:,1]\n",
    "pc_3 = reduced_3[:,2]"
   ]
  },
  {
   "cell_type": "code",
   "execution_count": null,
   "id": "6238000c",
   "metadata": {},
   "outputs": [],
   "source": []
  },
  {
   "cell_type": "code",
   "execution_count": 70,
   "id": "72afc8dd",
   "metadata": {},
   "outputs": [
    {
     "data": {
      "text/plain": [
       "Text(0, 0.5, 'Princiapl Component 2')"
      ]
     },
     "execution_count": 70,
     "metadata": {},
     "output_type": "execute_result"
    },
    {
     "data": {
      "image/png": "[encoded data removed]",
      "text/plain": [
       "<Figure size 720x720 with 1 Axes>"
      ]
     },
     "metadata": {
      "needs_background": "light"
     },
     "output_type": "display_data"
    }
   ],
   "source": [
    "plt.figure(figsize=(10,10))\n",
    "sns.scatterplot(x = pc_1, y = pc_2,hue=df.STIR)\n",
    "plt.xlabel('Princiapl Component 1')\n",
    "plt.ylabel('Princiapl Component 2')\n"
   ]
  },
  {
   "cell_type": "code",
   "execution_count": null,
   "id": "4d1f21fe",
   "metadata": {},
   "outputs": [],
   "source": [
    "plt.figure(figsize=(10,10))\n",
    "sns.scatterplot(x = pc_1, y = pc_3,hue=df.STIR)\n",
    "plt.xlabel('Princiapl Component 1')\n",
    "plt.ylabel('Princiapl Component 3')\n"
   ]
  },
  {
   "cell_type": "code",
   "execution_count": null,
   "id": "3fe072ac",
   "metadata": {},
   "outputs": [],
   "source": [
    "plt.figure(figsize=(10,10))\n",
    "sns.scatterplot(x = pc_1, y = pc_4,hue=df.STIR)\n",
    "plt.xlabel('Princiapl Component 1')\n",
    "plt.ylabel('Princiapl Component 4')\n"
   ]
  },
  {
   "cell_type": "code",
   "execution_count": null,
   "id": "279ebd40",
   "metadata": {},
   "outputs": [],
   "source": [
    "plt.figure(figsize=(10,10))\n",
    "sns.scatterplot(x = pc_2, y = pc_3,hue=df.STIR)\n",
    "plt.xlabel('Princiapl Component 2')\n",
    "plt.ylabel('Princiapl Component 3')\n"
   ]
  },
  {
   "cell_type": "code",
   "execution_count": null,
   "id": "2d6c1100",
   "metadata": {},
   "outputs": [],
   "source": [
    "plt.figure(figsize=(10,10))\n",
    "sns.scatterplot(x = pc_2, y = pc_4,hue=df.STIR)\n",
    "plt.xlabel('Princiapl Component 2')\n",
    "plt.ylabel('Princiapl Component 4')\n"
   ]
  },
  {
   "cell_type": "code",
   "execution_count": null,
   "id": "b4a4543d",
   "metadata": {},
   "outputs": [],
   "source": [
    "plt.figure(figsize=(10,10))\n",
    "sns.scatterplot(x = pc_3, y = pc_4,hue=df.STIR)\n",
    "plt.xlabel('Princiapl Component 3')\n",
    "plt.ylabel('Princiapl Component 4')\n"
   ]
  },
  {
   "cell_type": "code",
   "execution_count": 45,
   "id": "a9ac01a1",
   "metadata": {},
   "outputs": [
    {
     "data": {
      "text/html": [
       "<div>\n",
       "<style scoped>\n",
       "    .dataframe tbody tr th:only-of-type {\n",
       "        vertical-align: middle;\n",
       "    }\n",
       "\n",
       "    .dataframe tbody tr th {\n",
       "        vertical-align: top;\n",
       "    }\n",
       "\n",
       "    .dataframe thead th {\n",
       "        text-align: right;\n",
       "    }\n",
       "</style>\n",
       "<table border=\"1\" class=\"dataframe\">\n",
       "  <thead>\n",
       "    <tr style=\"text-align: right;\">\n",
       "      <th></th>\n",
       "      <th>PC1</th>\n",
       "      <th>PC2</th>\n",
       "      <th>PC3</th>\n",
       "    </tr>\n",
       "  </thead>\n",
       "  <tbody>\n",
       "    <tr>\n",
       "      <th>0</th>\n",
       "      <td>4.344315</td>\n",
       "      <td>0.214655</td>\n",
       "      <td>0.366357</td>\n",
       "    </tr>\n",
       "    <tr>\n",
       "      <th>1</th>\n",
       "      <td>4.218635</td>\n",
       "      <td>0.143613</td>\n",
       "      <td>0.312367</td>\n",
       "    </tr>\n",
       "    <tr>\n",
       "      <th>2</th>\n",
       "      <td>3.734176</td>\n",
       "      <td>-0.196718</td>\n",
       "      <td>0.080452</td>\n",
       "    </tr>\n",
       "    <tr>\n",
       "      <th>3</th>\n",
       "      <td>3.168316</td>\n",
       "      <td>-0.663540</td>\n",
       "      <td>-0.253943</td>\n",
       "    </tr>\n",
       "    <tr>\n",
       "      <th>4</th>\n",
       "      <td>3.115803</td>\n",
       "      <td>-0.855119</td>\n",
       "      <td>-0.264259</td>\n",
       "    </tr>\n",
       "    <tr>\n",
       "      <th>...</th>\n",
       "      <td>...</td>\n",
       "      <td>...</td>\n",
       "      <td>...</td>\n",
       "    </tr>\n",
       "    <tr>\n",
       "      <th>367</th>\n",
       "      <td>-3.206819</td>\n",
       "      <td>0.405876</td>\n",
       "      <td>-0.013220</td>\n",
       "    </tr>\n",
       "    <tr>\n",
       "      <th>368</th>\n",
       "      <td>-3.150533</td>\n",
       "      <td>0.530059</td>\n",
       "      <td>0.000323</td>\n",
       "    </tr>\n",
       "    <tr>\n",
       "      <th>369</th>\n",
       "      <td>-3.123553</td>\n",
       "      <td>0.503440</td>\n",
       "      <td>0.035060</td>\n",
       "    </tr>\n",
       "    <tr>\n",
       "      <th>370</th>\n",
       "      <td>-3.048271</td>\n",
       "      <td>0.551780</td>\n",
       "      <td>0.063026</td>\n",
       "    </tr>\n",
       "    <tr>\n",
       "      <th>371</th>\n",
       "      <td>-2.997622</td>\n",
       "      <td>0.671153</td>\n",
       "      <td>0.075433</td>\n",
       "    </tr>\n",
       "  </tbody>\n",
       "</table>\n",
       "<p>372 rows × 3 columns</p>\n",
       "</div>"
      ],
      "text/plain": [
       "          PC1       PC2       PC3\n",
       "0    4.344315  0.214655  0.366357\n",
       "1    4.218635  0.143613  0.312367\n",
       "2    3.734176 -0.196718  0.080452\n",
       "3    3.168316 -0.663540 -0.253943\n",
       "4    3.115803 -0.855119 -0.264259\n",
       "..        ...       ...       ...\n",
       "367 -3.206819  0.405876 -0.013220\n",
       "368 -3.150533  0.530059  0.000323\n",
       "369 -3.123553  0.503440  0.035060\n",
       "370 -3.048271  0.551780  0.063026\n",
       "371 -2.997622  0.671153  0.075433\n",
       "\n",
       "[372 rows x 3 columns]"
      ]
     },
     "execution_count": 45,
     "metadata": {},
     "output_type": "execute_result"
    }
   ],
   "source": [
    "pca_data = pd.DataFrame(data = reduced_4,columns = ['PC1','PC2','PC3'])\n",
    "pca_data"
   ]
  },
  {
   "cell_type": "markdown",
   "id": "a60391b9",
   "metadata": {},
   "source": [
    "Each data point contains the read count of PC1 and PC2\n",
    "\n",
    "P1 Cell score = read count*influence of  1st variable on pc + read count*influence of  1st variable on pc + ....."
   ]
  },
  {
   "cell_type": "markdown",
   "id": "336d1282",
   "metadata": {},
   "source": [
    "# Regression"
   ]
  },
  {
   "cell_type": "code",
   "execution_count": 71,
   "id": "55a9b1b0",
   "metadata": {},
   "outputs": [],
   "source": [
    "#define predictor and response variables\n",
    "X = pca_data\n",
    "y = df2"
   ]
  },
  {
   "cell_type": "code",
   "execution_count": null,
   "id": "8e799c7e",
   "metadata": {},
   "outputs": [],
   "source": []
  },
  {
   "cell_type": "code",
   "execution_count": 72,
   "id": "0e36aaa8",
   "metadata": {},
   "outputs": [],
   "source": [
    "from sklearn.model_selection import train_test_split"
   ]
  },
  {
   "cell_type": "code",
   "execution_count": 73,
   "id": "74a9f192",
   "metadata": {},
   "outputs": [],
   "source": [
    "x_train, x_test, y_train, y_test = train_test_split(X, y, test_size = 0.3)"
   ]
  },
  {
   "cell_type": "code",
   "execution_count": 74,
   "id": "45c8a2ca",
   "metadata": {},
   "outputs": [
    {
     "name": "stdout",
     "output_type": "stream",
     "text": [
      "Intercept:  5.665480903564735\n",
      "\n",
      "Coefficients: [ 1.57507835 -0.18331354  1.38267759]\n"
     ]
    }
   ],
   "source": [
    "from sklearn.linear_model import LinearRegression\n",
    "# creating an object of LinearRegression class\n",
    "reg = LinearRegression()  \n",
    "# fitting the training data\n",
    "reg.fit(x_train, y_train)\n",
    "#Intercept and Coefficient\n",
    "print(\"Intercept: \", reg.intercept_)\n",
    "print('')\n",
    "print(\"Coefficients:\",reg.coef_)\n",
    "\n",
    "#LR.fit(x_train,y_train)\n",
    "#y_prediction =  LR.predict(x_test)"
   ]
  },
  {
   "cell_type": "code",
   "execution_count": null,
   "id": "c0bce1ce",
   "metadata": {},
   "outputs": [],
   "source": [
    "y_test"
   ]
  },
  {
   "cell_type": "code",
   "execution_count": 75,
   "id": "76b95d49",
   "metadata": {},
   "outputs": [
    {
     "name": "stdout",
     "output_type": "stream",
     "text": [
      "Prediction for test set: [ 5.65922956  0.98806706  5.94777399  5.62067151  1.3122792   5.75239277\n",
      " 10.00844772  9.45241078  2.57841597  6.90920558  5.5563245   2.78169813\n",
      "  5.91124935  3.08217623  5.69362828  5.34317845  0.56773103 10.26993641\n",
      "  1.50765581  0.45352134  3.07802356  1.13676773  1.11193963  6.79654791\n",
      "  4.07845174  4.819735    2.70417545 10.36448428  6.34741433  1.45156827\n",
      "  0.74417515  1.88606634  5.93245996  4.33987765  8.12176581  6.19183114\n",
      "  1.21859656  7.51543001 13.72726771  1.73840747  0.97118921  3.86568572\n",
      "  6.27079506  1.47218781  0.4475105   0.52672594  2.96513137  6.88193361\n",
      "  0.59126581  1.82242207  7.39759361  5.74079186  0.92795055  1.96895873\n",
      "  0.52180882  0.85021076  6.96700247  2.5972982   0.92525873 10.66040793\n",
      " 13.95138639  5.13165481  6.95903157  3.74064692  8.64673821  7.10645905\n",
      "  0.60642379  1.11950349  1.29479409  6.86321538  3.35809891  6.19424344\n",
      "  1.20556687 11.85701818 12.99733508  1.35377284  6.85407008  5.08514516\n",
      "  4.40523225  6.5897435   6.5255776  13.42470102  4.55733359  6.19440421\n",
      "  5.77786371  1.29541424  1.59152578  7.77315068  1.8690709   4.31540375\n",
      "  5.54821103  1.43082856  1.88744105  0.61527541  6.72118182  4.90758678\n",
      " 13.71715818  5.93702699  6.77394788  5.78630171 13.97187244  3.37191675\n",
      "  0.47615367  6.77159629  1.33815896  7.56239732  6.68578388 13.88696274\n",
      "  6.76160662  5.69360237  0.46476774  1.27409431]\n"
     ]
    }
   ],
   "source": [
    "y_pred = reg.predict(x_test)\n",
    "\n",
    "#Predicted values\n",
    "print(\"Prediction for test set: {}\".format(y_pred))"
   ]
  },
  {
   "cell_type": "code",
   "execution_count": 76,
   "id": "5923f828",
   "metadata": {},
   "outputs": [
    {
     "data": {
      "text/html": [
       "<div>\n",
       "<style scoped>\n",
       "    .dataframe tbody tr th:only-of-type {\n",
       "        vertical-align: middle;\n",
       "    }\n",
       "\n",
       "    .dataframe tbody tr th {\n",
       "        vertical-align: top;\n",
       "    }\n",
       "\n",
       "    .dataframe thead th {\n",
       "        text-align: right;\n",
       "    }\n",
       "</style>\n",
       "<table border=\"1\" class=\"dataframe\">\n",
       "  <thead>\n",
       "    <tr style=\"text-align: right;\">\n",
       "      <th></th>\n",
       "      <th>Actual value</th>\n",
       "      <th>Predicted value</th>\n",
       "    </tr>\n",
       "  </thead>\n",
       "  <tbody>\n",
       "    <tr>\n",
       "      <th>251</th>\n",
       "      <td>5.29167</td>\n",
       "      <td>5.659230</td>\n",
       "    </tr>\n",
       "    <tr>\n",
       "      <th>338</th>\n",
       "      <td>0.52157</td>\n",
       "      <td>0.988067</td>\n",
       "    </tr>\n",
       "    <tr>\n",
       "      <th>86</th>\n",
       "      <td>6.03193</td>\n",
       "      <td>5.947774</td>\n",
       "    </tr>\n",
       "    <tr>\n",
       "      <th>159</th>\n",
       "      <td>5.31773</td>\n",
       "      <td>5.620672</td>\n",
       "    </tr>\n",
       "    <tr>\n",
       "      <th>325</th>\n",
       "      <td>0.50988</td>\n",
       "      <td>1.312279</td>\n",
       "    </tr>\n",
       "    <tr>\n",
       "      <th>...</th>\n",
       "      <td>...</td>\n",
       "      <td>...</td>\n",
       "    </tr>\n",
       "    <tr>\n",
       "      <th>46</th>\n",
       "      <td>15.15412</td>\n",
       "      <td>13.886963</td>\n",
       "    </tr>\n",
       "    <tr>\n",
       "      <th>132</th>\n",
       "      <td>6.41491</td>\n",
       "      <td>6.761607</td>\n",
       "    </tr>\n",
       "    <tr>\n",
       "      <th>158</th>\n",
       "      <td>5.42287</td>\n",
       "      <td>5.693602</td>\n",
       "    </tr>\n",
       "    <tr>\n",
       "      <th>349</th>\n",
       "      <td>0.56363</td>\n",
       "      <td>0.464768</td>\n",
       "    </tr>\n",
       "    <tr>\n",
       "      <th>286</th>\n",
       "      <td>0.60936</td>\n",
       "      <td>1.274094</td>\n",
       "    </tr>\n",
       "  </tbody>\n",
       "</table>\n",
       "<p>112 rows × 2 columns</p>\n",
       "</div>"
      ],
      "text/plain": [
       "     Actual value  Predicted value\n",
       "251       5.29167         5.659230\n",
       "338       0.52157         0.988067\n",
       "86        6.03193         5.947774\n",
       "159       5.31773         5.620672\n",
       "325       0.50988         1.312279\n",
       "..            ...              ...\n",
       "46       15.15412        13.886963\n",
       "132       6.41491         6.761607\n",
       "158       5.42287         5.693602\n",
       "349       0.56363         0.464768\n",
       "286       0.60936         1.274094\n",
       "\n",
       "[112 rows x 2 columns]"
      ]
     },
     "execution_count": 76,
     "metadata": {},
     "output_type": "execute_result"
    }
   ],
   "source": [
    "#Actual value and the predicted value\n",
    "#Actual value and the predicted value\n",
    "\n",
    "reg_diff = pd.DataFrame({'Actual value': y_test, 'Predicted value': y_pred})\n",
    "\n",
    "#reg_diff['counter'] = range(len(reg_diff))\n",
    "\n",
    "reg_diff"
   ]
  },
  {
   "cell_type": "code",
   "execution_count": null,
   "id": "afb5cbfc",
   "metadata": {},
   "outputs": [],
   "source": []
  },
  {
   "cell_type": "code",
   "execution_count": 77,
   "id": "a51490b1",
   "metadata": {},
   "outputs": [
    {
     "name": "stdout",
     "output_type": "stream",
     "text": [
      "R squared: 0.9571925497448368\n",
      "Mean Absolute Error: 0.6211424840313272\n",
      "Mean Square Error: 0.6297328660598926\n",
      "Root Mean Square Error: 0.7935570969123096\n"
     ]
    }
   ],
   "source": [
    "#Model Evaluation\n",
    "from sklearn import metrics\n",
    "from sklearn.metrics import r2_score\n",
    "MAE = metrics.mean_absolute_error(y_test, y_pred)\n",
    "MSE = metrics.mean_squared_error(y_test, y_pred)\n",
    "RMSE = np.sqrt(metrics.mean_squared_error(y_test, y_pred))\n",
    "print('R squared:',r2_score(y_test, y_pred))\n",
    "print('Mean Absolute Error:', MAE)\n",
    "print('Mean Square Error:', MSE)\n",
    "print('Root Mean Square Error:', RMSE)"
   ]
  },
  {
   "cell_type": "code",
   "execution_count": 79,
   "id": "81fc9088",
   "metadata": {},
   "outputs": [
    {
     "data": {
      "text/plain": [
       "Text(0.5, 1.0, 'Linear Regression Using PCA')"
      ]
     },
     "execution_count": 79,
     "metadata": {},
     "output_type": "execute_result"
    },
    {
     "data": {
      "image/png": "[encoded data removed]",
      "text/plain": [
       "<Figure size 720x504 with 1 Axes>"
      ]
     },
     "metadata": {
      "needs_background": "light"
     },
     "output_type": "display_data"
    }
   ],
   "source": [
    "plt.figure(figsize=(10,7))\n",
    "\n",
    "plt.plot(y_test, y_pred, 'o')\n",
    "\n",
    "\n",
    "m, b = np.polyfit(y_test, y_pred, 1)\n",
    "\n",
    "#m = slope, b=intercept\n",
    "\n",
    "\n",
    "plt.plot(y_test, m*y_test + b)#,xlab=\"predicted\",ylab=\"actual\")\n",
    "plt.xlabel('Predicted')\n",
    "plt.ylabel('Actual')\n",
    "plt.title('Linear Regression Using PCA')\n",
    "\n",
    "#add line of best fit\n",
    "\n",
    "\n"
   ]
  },
  {
   "cell_type": "code",
   "execution_count": 38,
   "id": "d81871cd",
   "metadata": {},
   "outputs": [],
   "source": [
    "import statsmodels.api as sm"
   ]
  },
  {
   "cell_type": "code",
   "execution_count": 39,
   "id": "0c31128d",
   "metadata": {},
   "outputs": [
    {
     "name": "stdout",
     "output_type": "stream",
     "text": [
      "                            OLS Regression Results                            \n",
      "==============================================================================\n",
      "Dep. Variable:                   STIR   R-squared:                       0.956\n",
      "Model:                            OLS   Adj. R-squared:                  0.955\n",
      "Method:                 Least Squares   F-statistic:                     1842.\n",
      "Date:                Tue, 31 May 2022   Prob (F-statistic):          6.59e-173\n",
      "Time:                        11:52:10   Log-Likelihood:                -318.53\n",
      "No. Observations:                 260   AIC:                             645.1\n",
      "Df Residuals:                     256   BIC:                             659.3\n",
      "Df Model:                           3                                         \n",
      "Covariance Type:            nonrobust                                         \n",
      "==============================================================================\n",
      "                 coef    std err          t      P>|t|      [0.025      0.975]\n",
      "------------------------------------------------------------------------------\n",
      "const          5.7119      0.052    110.727      0.000       5.610       5.813\n",
      "PC1            1.5886      0.022     72.925      0.000       1.546       1.631\n",
      "PC2           -0.1188      0.066     -1.800      0.073      -0.249       0.011\n",
      "PC3            1.3913      0.090     15.493      0.000       1.214       1.568\n",
      "==============================================================================\n",
      "Omnibus:                        9.414   Durbin-Watson:                   2.126\n",
      "Prob(Omnibus):                  0.009   Jarque-Bera (JB):                9.586\n",
      "Skew:                           0.441   Prob(JB):                      0.00829\n",
      "Kurtosis:                       2.672   Cond. No.                         4.13\n",
      "==============================================================================\n",
      "\n",
      "Notes:\n",
      "[1] Standard Errors assume that the covariance matrix of the errors is correctly specified.\n"
     ]
    },
    {
     "data": {
      "text/plain": [
       "0.9557144006711638"
      ]
     },
     "execution_count": 39,
     "metadata": {},
     "output_type": "execute_result"
    }
   ],
   "source": [
    "#x2 = reg_diff['Actual value'].tolist()\n",
    "#y2 = reg_diff['Predicted value'].tolist()\n",
    " \n",
    "# adding the constant term\n",
    "#xwc = sm.add_constant(x_train)\n",
    " \n",
    "# performing the regression\n",
    "# and fitting the model\n",
    "result = sm.OLS(y_train,sm.add_constant(x_train)).fit()\n",
    " \n",
    "# printing the summary table\n",
    "print(result.summary())\n",
    "result.rsquared"
   ]
  },
  {
   "cell_type": "code",
   "execution_count": null,
   "id": "365eb223",
   "metadata": {},
   "outputs": [],
   "source": [
    "xwc"
   ]
  },
  {
   "cell_type": "code",
   "execution_count": null,
   "id": "b6f0bffc",
   "metadata": {},
   "outputs": [],
   "source": [
    "y_train"
   ]
  }
 ],
 "metadata": {
  "kernelspec": {
   "display_name": "Python 3",
   "language": "python",
   "name": "python3"
  },
  "language_info": {
   "codemirror_mode": {
    "name": "ipython",
    "version": 3
   },
   "file_extension": ".py",
   "mimetype": "text/x-python",
   "name": "python",
   "nbconvert_exporter": "python",
   "pygments_lexer": "ipython3",
   "version": "3.8.8"
  }
 },
 "nbformat": 4,
 "nbformat_minor": 5
}
